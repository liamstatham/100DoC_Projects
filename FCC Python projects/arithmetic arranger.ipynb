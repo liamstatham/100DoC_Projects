{
 "cells": [
  {
   "cell_type": "markdown",
   "metadata": {},
   "source": [
    "### Assignment\n",
    "\n",
    "Students in primary school often arrange arithmetic problems vertically to make them easier to solve. For example, \"235 + 52\" becomes:\n",
    "```\n",
    "  235\n",
    "+  52\n",
    "-----\n",
    "```\n",
    "\n",
    "Create a function that receives a list of strings that are arithmetic problems and returns the problems arranged vertically and side-by-side. The function should optionally take a second argument. When the second argument is set to `True`, the answers should be displayed.\n",
    "\n",
    "### For example\n",
    "\n",
    "Function Call:\n",
    "```py\n",
    "arithmetic_arranger([\"32 + 698\", \"3801 - 2\", \"45 + 43\", \"123 + 49\"])\n",
    "```\n",
    "\n",
    "Output:\n",
    "```\n",
    "   32      3801      45      123\n",
    "+ 698    -    2    + 43    +  49\n",
    "-----    ------    ----    -----\n",
    "```\n",
    "\n",
    "Function Call:\n",
    "```py\n",
    "arithmetic_arranger([\"32 + 8\", \"1 - 3801\", \"9999 + 9999\", \"523 - 49\"], True)\n",
    "```\n",
    "\n",
    "Output:\n",
    "```\n",
    "  32         1      9999      523\n",
    "+  8    - 3801    + 9999    -  49\n",
    "----    ------    ------    -----\n",
    "  40     -3800     19998      474\n",
    "```\n",
    "\n",
    "### Rules\n",
    "\n",
    "The function will return the correct conversion if the supplied problems are properly formatted, otherwise, it will **return** a **string** that describes an error that is meaningful to the user.  \n",
    "\n",
    "\n",
    "* Situations that will return an error:\n",
    "  * If there are **too many problems** supplied to the function. The limit is **five**, anything more will return:\n",
    "    `Error: Too many problems.`\n",
    "  * The appropriate operators the function will accept are **addition** and **subtraction**. Multiplication and division will return an error. Other operators not mentioned in this bullet point will not need to be tested. The error returned will be:\n",
    "    `Error: Operator must be '+' or '-'.`\n",
    "  * Each number (operand) should only contain digits. Otherwise, the function will return:\n",
    "    `Error: Numbers must only contain digits.`\n",
    "  * Each operand (aka number on each side of the operator) has a max of four digits in width. Otherwise, the error string returned will be:\n",
    "    `Error: Numbers cannot be more than four digits.`\n",
    "*  If the user supplied the correct format of problems, the conversion you return will follow these rules:\n",
    "    * There should be a single space between the operator and the longest of the two operands, the operator will be on the same line as the second operand, both operands will be in the same order as provided (the first will be the top one and the second will be the bottom.\n",
    "    * Numbers should be right-aligned.\n",
    "    * There should be four spaces between each problem.\n",
    "    * There should be dashes at the bottom of each problem. The dashes should run along the entire length of each problem individually. (The example above shows what this should look like.)\n",
    "\n",
    "### Development\n",
    "\n",
    "Write your code in `arithmetic_arranger.py`. For development, you can use `main.py` to test your `arithmetic_arranger()` function. Click the \"run\" button and `main.py` will run.\n",
    "\n",
    "### Testing \n",
    "\n",
    "The unit tests for this project are in `test_module.py`. We imported the tests from `test_module.py` to `main.py` for your convenience. The tests will run automatically whenever you hit the \"run\" button.\n",
    "\n",
    "### Submitting\n",
    "\n",
    "Copy your project's URL and submit it to freeCodeCamp.\n"
   ]
  },
  {
   "cell_type": "code",
   "execution_count": null,
   "metadata": {},
   "outputs": [],
   "source": [
    "#def arithmetic_arranger(problems):\n",
    "\n",
    "\n",
    "   # return arranged_problems\n",
    "\n",
    "#arithmetic_arranger([\"32 + 698\", \"3801 - 2\", \"45 + 43\", \"123 + 49\"])"
   ]
  },
  {
   "cell_type": "code",
   "execution_count": 2,
   "metadata": {},
   "outputs": [],
   "source": [
    "a = '32'\n",
    "b = '45'"
   ]
  },
  {
   "cell_type": "code",
   "execution_count": 6,
   "metadata": {},
   "outputs": [],
   "source": [
    "an =int(a)\n",
    "bn = int(b)"
   ]
  },
  {
   "cell_type": "code",
   "execution_count": 7,
   "metadata": {},
   "outputs": [
    {
     "data": {
      "text/plain": [
       "('32 + 698', '3801 - 2', '45 + 43', '123 + 49')"
      ]
     },
     "execution_count": 7,
     "metadata": {},
     "output_type": "execute_result"
    }
   ],
   "source": [
    "\"32 + 698\", \"3801 - 2\", \"45 + 43\", \"123 + 49\""
   ]
  },
  {
   "cell_type": "code",
   "execution_count": null,
   "metadata": {},
   "outputs": [],
   "source": []
  }
 ],
 "metadata": {
  "kernelspec": {
   "display_name": "Python 3",
   "language": "python",
   "name": "python3"
  },
  "language_info": {
   "codemirror_mode": {
    "name": "ipython",
    "version": 3
   },
   "file_extension": ".py",
   "mimetype": "text/x-python",
   "name": "python",
   "nbconvert_exporter": "python",
   "pygments_lexer": "ipython3",
   "version": "3.7.4"
  }
 },
 "nbformat": 4,
 "nbformat_minor": 2
}
