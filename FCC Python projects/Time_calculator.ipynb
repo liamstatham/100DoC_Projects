{
 "cells": [
  {
   "cell_type": "markdown",
   "metadata": {},
   "source": [
    "### Assignment.\n",
    "\n",
    "Write a function named add_time that takes in two required parameters and one optional parameter:\n",
    "\n",
    "a start time in the 12-hour clock format (ending in AM or PM)\n",
    "a duration time that indicates the number of hours and minutes\n",
    "(optional) a starting day of the week, case insensitive\n",
    "The function should add the duration time to the start time and return the result.\n",
    "\n",
    "If the result will be the next day, it should show (next day) after the time. If the result will be more than one day later, it should show (n days later) after the time, where \"n\" is the number of days later.\n",
    "\n",
    "If the function is given the optional starting day of the week parameter, then the output should display the day of the week of the result. The day of the week in the output should appear after the time and before the number of days later.\n",
    "\n",
    "Below are some examples of different cases the function should handle. Pay close attention to the spacing and punctuation of the results.\n",
    "\n",
    "```\n",
    "add_time(\"3:00 PM\", \"3:10\")\n",
    "# Returns: 6:10 PM\n",
    "\n",
    "add_time(\"11:30 AM\", \"2:32\", \"Monday\")\n",
    "# Returns: 2:02 PM, Monday\n",
    "\n",
    "add_time(\"11:43 AM\", \"00:20\")\n",
    "# Returns: 12:03 PM\n",
    "\n",
    "add_time(\"10:10 PM\", \"3:30\")\n",
    "# Returns: 1:40 AM (next day)\n",
    "\n",
    "add_time(\"11:43 PM\", \"24:20\", \"tueSday\")\n",
    "# Returns: 12:03 AM, Thursday (2 days later)\n",
    "\n",
    "add_time(\"6:30 PM\", \"205:12\")\n",
    "# Returns: 7:42 AM (9 days later)\n",
    "```\n",
    "\n",
    "\n",
    "Do not import any Python libraries. Assume that the start times are valid times. The minutes in the duration time will be a whole number less than 60, but the hour can be any whole number.\n",
    "\n",
    "Development\n",
    "Write your code in time_calculator.py. For development, you can use main.py to test your time_calculator() function. Click the \"run\" button and main.py will run.\n",
    "\n",
    "Testing\n",
    "The unit tests for this project are in test_module.py. We imported the tests from test_module.py to main.py for your convenience. The tests will run automatically whenever you hit the \"run\" button.\n",
    "\n",
    "Submitting\n",
    "Copy your project's URL and submit it to freeCodeCamp."
   ]
  },
  {
   "cell_type": "code",
   "execution_count": 133,
   "metadata": {},
   "outputs": [],
   "source": [
    "def add_time(start, duration):\n",
    "    \n",
    "    time = []\n",
    "    time2 = []\n",
    "    days_lst = []\n",
    "    ampm = start.split()\n",
    "    time = ampm[0].split(':')\n",
    "    timeh = time[0]\n",
    "    timem = time[1]\n",
    "    timep = ampm[1]\n",
    "    current = timeh + ':' + timem + ' ' + timep\n",
    "    \n",
    "    print(current)\n",
    "    \n",
    "    dur = duration.split(':')\n",
    "    durh = dur[0]\n",
    "    durm = dur[1]\n",
    "    day = int(durh) / 24.0\n",
    "    y = 0\n",
    "    for x in str(day):\n",
    "        print(x)\n",
    "        y = y + 1\n",
    "        if y == 1:\n",
    "            d2add = x\n",
    "            break\n",
    "        \n",
    "    \n",
    "    #days1 = day_lst[0].split()\n",
    "    print(durh, durm)\n",
    "    print(figs)\n",
    "    print(d2add)\n",
    "    \n",
    "    \n",
    "    \n",
    "\n",
    "\n",
    "\n",
    "\n",
    "    return new_time"
   ]
  },
  {
   "cell_type": "code",
   "execution_count": 134,
   "metadata": {},
   "outputs": [
    {
     "name": "stdout",
     "output_type": "stream",
     "text": [
      "6:30 PM\n",
      "8\n",
      "205 12\n"
     ]
    },
    {
     "ename": "NameError",
     "evalue": "name 'figs' is not defined",
     "output_type": "error",
     "traceback": [
      "\u001b[1;31m---------------------------------------------------------------------------\u001b[0m",
      "\u001b[1;31mNameError\u001b[0m                                 Traceback (most recent call last)",
      "\u001b[1;32m<ipython-input-134-de488890e45a>\u001b[0m in \u001b[0;36m<module>\u001b[1;34m\u001b[0m\n\u001b[1;32m----> 1\u001b[1;33m \u001b[0madd_time\u001b[0m\u001b[1;33m(\u001b[0m\u001b[1;34m\"6:30 PM\"\u001b[0m\u001b[1;33m,\u001b[0m \u001b[1;34m\"205:12\"\u001b[0m\u001b[1;33m)\u001b[0m\u001b[1;33m\u001b[0m\u001b[1;33m\u001b[0m\u001b[0m\n\u001b[0m",
      "\u001b[1;32m<ipython-input-133-9ecd5b7780fb>\u001b[0m in \u001b[0;36madd_time\u001b[1;34m(start, duration)\u001b[0m\n\u001b[0;32m     28\u001b[0m     \u001b[1;31m#days1 = day_lst[0].split()\u001b[0m\u001b[1;33m\u001b[0m\u001b[1;33m\u001b[0m\u001b[1;33m\u001b[0m\u001b[0m\n\u001b[0;32m     29\u001b[0m     \u001b[0mprint\u001b[0m\u001b[1;33m(\u001b[0m\u001b[0mdurh\u001b[0m\u001b[1;33m,\u001b[0m \u001b[0mdurm\u001b[0m\u001b[1;33m)\u001b[0m\u001b[1;33m\u001b[0m\u001b[1;33m\u001b[0m\u001b[0m\n\u001b[1;32m---> 30\u001b[1;33m     \u001b[0mprint\u001b[0m\u001b[1;33m(\u001b[0m\u001b[0mfigs\u001b[0m\u001b[1;33m)\u001b[0m\u001b[1;33m\u001b[0m\u001b[1;33m\u001b[0m\u001b[0m\n\u001b[0m\u001b[0;32m     31\u001b[0m     \u001b[0mprint\u001b[0m\u001b[1;33m(\u001b[0m\u001b[0md2add\u001b[0m\u001b[1;33m)\u001b[0m\u001b[1;33m\u001b[0m\u001b[1;33m\u001b[0m\u001b[0m\n\u001b[0;32m     32\u001b[0m \u001b[1;33m\u001b[0m\u001b[0m\n",
      "\u001b[1;31mNameError\u001b[0m: name 'figs' is not defined"
     ]
    }
   ],
   "source": [
    "add_time(\"6:30 PM\", \"205:12\")"
   ]
  },
  {
   "cell_type": "code",
   "execution_count": null,
   "metadata": {},
   "outputs": [],
   "source": []
  }
 ],
 "metadata": {
  "kernelspec": {
   "display_name": "Python 3",
   "language": "python",
   "name": "python3"
  },
  "language_info": {
   "codemirror_mode": {
    "name": "ipython",
    "version": 3
   },
   "file_extension": ".py",
   "mimetype": "text/x-python",
   "name": "python",
   "nbconvert_exporter": "python",
   "pygments_lexer": "ipython3",
   "version": "3.7.4"
  }
 },
 "nbformat": 4,
 "nbformat_minor": 2
}
