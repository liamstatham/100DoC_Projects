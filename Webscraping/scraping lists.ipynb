{
 "cells": [
  {
   "cell_type": "code",
   "execution_count": null,
   "metadata": {},
   "outputs": [],
   "source": [
    "import requests\n",
    "from bs4 import BeautifulSoup\n",
    "from os.path import basename\n",
    "#Pretend to be a web browser\n",
    "headers = {'User-Agent': \n",
    "           'Mozilla/5.0 (X11; Linux x86_64) AppleWebKit/537.36 (KHTML, like Gecko) Chrome/47.0.2526.106 Safari/537.36'}"
   ]
  },
  {
   "cell_type": "code",
   "execution_count": null,
   "metadata": {},
   "outputs": [],
   "source": [
    "#process EFL league table\n",
    "page = 'https://www.transfermarkt.co.uk/championship/startseite/wettbewerb/GB2'\n",
    "tree = requests.get(page, headers = headers)\n",
    "soup = BeautifulSoup(tree.content, 'html.parser')"
   ]
  },
  {
   "cell_type": "code",
   "execution_count": null,
   "metadata": {},
   "outputs": [],
   "source": [
    "#create empty list\n",
    "teamLinks = []\n",
    "#extract all links with the correct css selector\n",
    "links = soup.select(\"a.vereinprofil_tooltip\")\n",
    "#We need the location that the link is pointing to, so for each link, take the link location. \n",
    "#Additionally, we only need the links in locations 1,3,5,etc. of our list, so loop through those only\n",
    "#had to skip by 3, as duplicate links are there!\n",
    "# in a range (start, end, amount to skip)\n",
    "for i in range(1,71,3):\n",
    "    teamLinks.append(links[i].get(\"href\"))\n",
    "#For each location that we have taken, add the website before it - this allows us to call it later\n",
    "for i in range(len(teamLinks)):\n",
    "    teamLinks[i] = \"https://www.transfermarkt.co.uk\"+teamLinks[i]"
   ]
  },
  {
   "cell_type": "code",
   "execution_count": null,
   "metadata": {},
   "outputs": [],
   "source": [
    "teamLinks"
   ]
  },
  {
   "cell_type": "code",
   "execution_count": null,
   "metadata": {},
   "outputs": [],
   "source": [
    "#Create an empty list for our player links to go into\n",
    "playerLinks = []\n",
    "\n",
    "#Run the scraper through each of our 20 team links\n",
    "for i in range(len(teamLinks)):\n",
    "\n",
    "    #Download and process the team page\n",
    "    page = teamLinks[i]\n",
    "    tree = requests.get(page, headers = headers)\n",
    "    soup = BeautifulSoup(tree.content, 'html.parser')\n",
    "\n",
    "    #Extract all links\n",
    "    links = soup.select(\"a.spielprofil_tooltip\")\n",
    "    \n",
    "    #For each link, extract the location that it is pointing to\n",
    "   # for j in range(len(links)):\n",
    "    #    playerLinks.append(links[j].get(\"href\"))\n",
    "\n",
    "    #Add the location to the end of the transfermarkt domain to make it ready to scrape\n",
    "    #for j in range(len(playerLinks)):\n",
    "     #   playerLinks[j] = \"https://www.transfermarkt.co.uk\"+playerLinks[j]\n",
    "\n",
    "    #The page list the players more than once - let's use list(set(XXX)) to remove the duplicates\n",
    "    #playerLinks = list(set(playerLinks))"
   ]
  },
  {
   "cell_type": "code",
   "execution_count": null,
   "metadata": {},
   "outputs": [],
   "source": [
    "len(links)"
   ]
  },
  {
   "cell_type": "code",
   "execution_count": 59,
   "metadata": {},
   "outputs": [
    {
     "data": {
      "text/plain": [
       "'https://www.transfermarkt.co.ukhttps://www.transfermarkt.co.ukhttps://www.transfermarkt.co.ukhttps://www.transfermarkt.co.ukhttps://www.transfermarkt.co.ukhttps://www.transfermarkt.co.ukhttps://www.transfermarkt.co.ukhttps://www.transfermarkt.co.ukhttps://www.transfermarkt.co.ukhttps://www.transfermarkt.co.ukhttps://www.transfermarkt.co.ukhttps://www.transfermarkt.co.ukhttps://www.transfermarkt.co.ukhttps://www.transfermarkt.co.ukhttps://www.transfermarkt.co.ukhttps://www.transfermarkt.co.ukhttps://www.transfermarkt.co.ukhttps://www.transfermarkt.co.ukhttps://www.transfermarkt.co.ukhttps://www.transfermarkt.co.ukhttps://www.transfermarkt.co.ukhttps://www.transfermarkt.co.ukhttps://www.transfermarkt.co.ukhttps://www.transfermarkt.co.uk/sam-surridge/profil/spieler/398402'"
      ]
     },
     "execution_count": 59,
     "metadata": {},
     "output_type": "execute_result"
    }
   ],
   "source": [
    "playerLinks[10]"
   ]
  },
  {
   "cell_type": "code",
   "execution_count": null,
   "metadata": {},
   "outputs": [],
   "source": []
  }
 ],
 "metadata": {
  "kernelspec": {
   "display_name": "Python 3",
   "language": "python",
   "name": "python3"
  },
  "language_info": {
   "codemirror_mode": {
    "name": "ipython",
    "version": 3
   },
   "file_extension": ".py",
   "mimetype": "text/x-python",
   "name": "python",
   "nbconvert_exporter": "python",
   "pygments_lexer": "ipython3",
   "version": "3.7.4"
  }
 },
 "nbformat": 4,
 "nbformat_minor": 2
}
