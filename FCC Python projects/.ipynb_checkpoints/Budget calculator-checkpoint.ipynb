{
 "cells": [
  {
   "cell_type": "markdown",
   "metadata": {},
   "source": [
    "### Assignment\n",
    "\n",
    "Complete the `Category` class in `budget.py`. It should be able to instantiate objects based on different budget categories like *food*, *clothing*, and *entertainment*. When objects are created, they are passed in the name of the category. The class should have an instance variable called `ledger` that is a list. The class should also contain the following methods:\n",
    "\n",
    "* A `deposit` method that accepts an amount and description. If no description is given, it should default to an empty string. The method should append an object to the ledger list in the form of `{\"amount\": amount, \"description\": description}`.\n",
    "* A `withdraw` method that is similar to the `deposit` method, but the amount passed in should be stored in the ledger as a negative number. If there are not enough funds, nothing should be added to the ledger. This method should return `True` if the withdrawal took place, and `False` otherwise.\n",
    "* A `get_balance` method that returns the current balance of the budget category based on the deposits and withdrawals that have occurred.\n",
    "* A `transfer` method that accepts an amount and another budget category as arguments. The method should add a withdrawal with the amount and the description \"Transfer to [Destination Budget Category]\". The method should then add a deposit to the other budget category with the amount and the description \"Transfer from [Source Budget Category]\". If there are not enough funds, nothing should be added to either ledgers. This method should return `True` if the transfer took place, and `False` otherwise.\n",
    "* A `check_funds` method that accepts an amount as an argument. It returns `False` if the amount is greater than the balance of the budget category and returns `True` otherwise. This method should be used by both the `withdraw` method and `transfer` method.\n",
    "\n",
    "When the budget object is printed it should display:\n",
    "* A title line of 30 characters where the name of the category is centered in a line of `*` characters.\n",
    "* A list of the items in the ledger. Each line should show the description and amount. The first 23 characters of the description should be displayed, then the amount. The amount should be right aligned, contain two decimal places, and display a maximum of 7 characters.\n",
    "* A line displaying the category total.\n",
    "\n",
    "Here is an example of the output:\n",
    "```\n",
    "*************Food*************\n",
    "initial deposit        1000.00\n",
    "groceries               -10.15\n",
    "restaurant and more foo -15.89\n",
    "Transfer to Clothing    -50.00\n",
    "Total: 923.96\n",
    "```\n",
    "\n",
    "Besides the `Category` class, create a function (ouside of the class) called `create_spend_chart` that takes a list of categories as an argument. It should return a string that is a bar chart.\n",
    "\n",
    "The chart should show the percentage spent in each category passed in to the function. The percentage spent should be calculated only with withdrawals and not with deposits. Down the left side of the chart should be labels 0 - 100. The \"bars\" in the bar chart should be made out of the \"o\" character. The height of each bar should be rounded down to the nearest 10. The horizontal line below the bars should go two spaces past the final bar. Each category name should be vertacally below the bar. There should be a title at the top that says \"Percentage spent by category\".\n",
    "\n",
    "This function will be tested with up to four categories.\n",
    "\n",
    "Look at the example output below very closely and make sure the spacing of the output matches the example exactly.\n",
    "\n",
    "```\n",
    "Percentage spent by category\n",
    "100|          \n",
    " 90|          \n",
    " 80|          \n",
    " 70|          \n",
    " 60| o        \n",
    " 50| o        \n",
    " 40| o        \n",
    " 30| o        \n",
    " 20| o  o     \n",
    " 10| o  o  o  \n",
    "  0| o  o  o  \n",
    "    ----------\n",
    "     F  C  A  \n",
    "     o  l  u  \n",
    "     o  o  t  \n",
    "     d  t  o  \n",
    "        h     \n",
    "        i     \n",
    "        n     \n",
    "        g     \n",
    "```\n",
    "\n",
    "The unit tests for this project are in `test_module.py`.\n",
    "\n",
    "### Development\n",
    "\n",
    "Write your code in `budget.py`. For development, you can use `main.py` to test your `Category` class. Click the \"run\" button and `main.py` will run.\n",
    "\n",
    "### Testing \n",
    "\n",
    "We imported the tests from `test_module.py` to `main.py` for your convenience. The tests will run automatically whenever you hit the \"run\" button.\n",
    "\n",
    "### Submitting\n",
    "\n",
    "Copy your project's URL and submit it to freeCodeCamp.\n"
   ]
  },
  {
   "cell_type": "markdown",
   "metadata": {},
   "source": [
    "* A `deposit` method that accepts an amount and description. If no description is given, it should default to an empty string. The method should append an object to the ledger list in the form of `{\"amount\": amount, \"description\": description}`.\n",
    "* A `withdraw` method that is similar to the `deposit` method, but the amount passed in should be stored in the ledger as a negative number. If there are not enough funds, nothing should be added to the ledger. This method should return `True` if the withdrawal took place, and `False` otherwise.\n",
    "* A `get_balance` method that returns the current balance of the budget category based on the deposits and withdrawals that have occurred.\n",
    "* A `transfer` method that accepts an amount and another budget category as arguments. The method should add a withdrawal with the amount and the description \"Transfer to [Destination Budget Category]\". The method should then add a deposit to the other budget category with the amount and the description \"Transfer from [Source Budget Category]\". If there are not enough funds, nothing should be added to either ledgers. This method should return `True` if the transfer took place, and `False` otherwise.\n",
    "* A `check_funds` method that accepts an amount as an argument. It returns `False` if the amount is greater than the balance of the budget category and returns `True` otherwise. This method should be used by both the `withdraw` method and `transfer` method."
   ]
  },
  {
   "cell_type": "code",
   "execution_count": 67,
   "metadata": {},
   "outputs": [],
   "source": [
    "class Category:\n",
    "    def __init__(self, category):\n",
    "        self.category = category\n",
    "        self.ledger = list()\n",
    "    \n",
    "    def deposit (self, amount, description = \"\"):\n",
    "        #Create a dict for deposits (amounts and description)\n",
    "        self.dep = dict()\n",
    "        #Add amount and description to dict\n",
    "        self.dep [\"amount\"] = amount\n",
    "        self.dep [\"description\"] = description\n",
    "        #add to ledger\n",
    "        self.ledger.append(self.dep)\n",
    "    \n",
    "    def check_funds (self, amount):\n",
    "        bank = 0\n",
    "        #go through ledger and add amount to bank\n",
    "        ledg = len(self.ledger)\n",
    "        for x in range(ledg):\n",
    "            bank = bank + self.ledger[x][\"amount\"]\n",
    "        #if bank is less than amount return true\n",
    "        if bank<amount:\n",
    "            return False\n",
    "        else:\n",
    "            return True\n",
    "        \n",
    "    def withdraw (self, amount, description = \"\"):\n",
    "        check = self.check_funds(amount)\n",
    "        if (check == True):\n",
    "            #create a dict for withdrawals\n",
    "            self.withd = dict()\n",
    "            #make amount to withdraw a negative\n",
    "            am1 = amount - amount*2\n",
    "            self.withd [\"amount\"] = am1\n",
    "            self.withd [\"description\"] = description\n",
    "            #add to ledger\n",
    "            self.ledger.append(self.withd)\n",
    "            return True\n",
    "        else:\n",
    "            return False\n",
    "        \n",
    "    def get_balance (self):\n",
    "        #cat = self.category\n",
    "        bank = 0\n",
    "        #go through ledger and add amount to bank\n",
    "        ledg = len(self.ledger)\n",
    "        for x in range(ledg):\n",
    "            bank = bank + self.ledger[x][\"amount\"]\n",
    "        return bank\n",
    "        \n",
    "    def transfer (self, amount, category):\n",
    "        newcat = category.category\n",
    "        oldcat = self.category\n",
    "        withdraw = self.withdraw(amount,f'Transfer to {newcat}')\n",
    "        if (withdraw == True):\n",
    "            Category(category).deposit(amount,f'Transfer from {oldcat}')\n",
    "            return True\n",
    "        else:\n",
    "            return False\n",
    "        \n",
    "        \n",
    "def create_spend_chart(categories):\n",
    "  a = 1"
   ]
  },
  {
   "cell_type": "code",
   "execution_count": null,
   "metadata": {},
   "outputs": [],
   "source": [
    "======================================================================\n",
    "ERROR: test_transfer (test_module.UnitTests)\n",
    "----------------------------------------------------------------------\n",
    "Traceback (most recent call last):\n",
    "  File \"/home/runner/boilerplate-budget-app/test_module.py\", line 54, in test_transfer\n",
    "    actual = self.entertainment.ledger[0]\n",
    "IndexError: list index out of range\n"
   ]
  },
  {
   "cell_type": "code",
   "execution_count": null,
   "metadata": {},
   "outputs": [],
   "source": [
    "#https://forum.freecodecamp.org/t/budget-app-python/410549\n",
    "#https://repl.it/@LiamStatham/boilerplate-budget-app#test_module.py"
   ]
  },
  {
   "cell_type": "code",
   "execution_count": 42,
   "metadata": {
    "scrolled": false
   },
   "outputs": [
    {
     "name": "stdout",
     "output_type": "stream",
     "text": [
      "40 Transfer to Food\n",
      "40 Transfer from Business\n"
     ]
    }
   ],
   "source": [
    "Category(\"Business\").transfer(40, \"Food\")"
   ]
  },
  {
   "cell_type": "code",
   "execution_count": 47,
   "metadata": {},
   "outputs": [
    {
     "name": "stdout",
     "output_type": "stream",
     "text": [
      "{'amount': -30, 'description': ''}\n"
     ]
    },
    {
     "data": {
      "text/plain": [
       "True"
      ]
     },
     "execution_count": 47,
     "metadata": {},
     "output_type": "execute_result"
    }
   ],
   "source": [
    "Category(\"Business\").withdraw(30)"
   ]
  },
  {
   "cell_type": "code",
   "execution_count": 68,
   "metadata": {},
   "outputs": [
    {
     "ename": "AttributeError",
     "evalue": "'str' object has no attribute 'ledger'",
     "output_type": "error",
     "traceback": [
      "\u001b[1;31m---------------------------------------------------------------------------\u001b[0m",
      "\u001b[1;31mAttributeError\u001b[0m                            Traceback (most recent call last)",
      "\u001b[1;32m<ipython-input-68-1096125227b7>\u001b[0m in \u001b[0;36m<module>\u001b[1;34m\u001b[0m\n\u001b[1;32m----> 1\u001b[1;33m \u001b[0mCategory\u001b[0m\u001b[1;33m(\u001b[0m\u001b[1;34m\"Business\"\u001b[0m\u001b[1;33m)\u001b[0m\u001b[1;33m.\u001b[0m\u001b[0mget_balance\u001b[0m\u001b[1;33m(\u001b[0m\u001b[1;33m)\u001b[0m\u001b[1;33m\u001b[0m\u001b[1;33m\u001b[0m\u001b[0m\n\u001b[0m",
      "\u001b[1;32m<ipython-input-67-5e5432ad7611>\u001b[0m in \u001b[0;36mget_balance\u001b[1;34m(self)\u001b[0m\n\u001b[0;32m     44\u001b[0m         \u001b[0mbank\u001b[0m \u001b[1;33m=\u001b[0m \u001b[1;36m0\u001b[0m\u001b[1;33m\u001b[0m\u001b[1;33m\u001b[0m\u001b[0m\n\u001b[0;32m     45\u001b[0m         \u001b[1;31m#go through ledger and add amount to bank\u001b[0m\u001b[1;33m\u001b[0m\u001b[1;33m\u001b[0m\u001b[1;33m\u001b[0m\u001b[0m\n\u001b[1;32m---> 46\u001b[1;33m         \u001b[0mledg\u001b[0m \u001b[1;33m=\u001b[0m \u001b[0mlen\u001b[0m\u001b[1;33m(\u001b[0m\u001b[0mcat\u001b[0m\u001b[1;33m.\u001b[0m\u001b[0mledger\u001b[0m\u001b[1;33m)\u001b[0m\u001b[1;33m\u001b[0m\u001b[1;33m\u001b[0m\u001b[0m\n\u001b[0m\u001b[0;32m     47\u001b[0m         \u001b[1;32mfor\u001b[0m \u001b[0mx\u001b[0m \u001b[1;32min\u001b[0m \u001b[0mrange\u001b[0m\u001b[1;33m(\u001b[0m\u001b[0mledg\u001b[0m\u001b[1;33m)\u001b[0m\u001b[1;33m:\u001b[0m\u001b[1;33m\u001b[0m\u001b[1;33m\u001b[0m\u001b[0m\n\u001b[0;32m     48\u001b[0m             \u001b[0mbank\u001b[0m \u001b[1;33m=\u001b[0m \u001b[0mbank\u001b[0m \u001b[1;33m+\u001b[0m \u001b[0mself\u001b[0m\u001b[1;33m.\u001b[0m\u001b[0mledger\u001b[0m\u001b[1;33m[\u001b[0m\u001b[0mx\u001b[0m\u001b[1;33m]\u001b[0m\u001b[1;33m[\u001b[0m\u001b[1;34m\"amount\"\u001b[0m\u001b[1;33m]\u001b[0m\u001b[1;33m\u001b[0m\u001b[1;33m\u001b[0m\u001b[0m\n",
      "\u001b[1;31mAttributeError\u001b[0m: 'str' object has no attribute 'ledger'"
     ]
    }
   ],
   "source": [
    "Category(\"Business\").get_balance()"
   ]
  },
  {
   "cell_type": "code",
   "execution_count": 54,
   "metadata": {},
   "outputs": [],
   "source": [
    "import unittest\n",
    "\n",
    "class UnitTests(unittest.TestCase):\n",
    "    def setUp(self):\n",
    "        self.food = Category(\"Food\")\n",
    "        self.entertainment = Category(\"Entertainment\")\n",
    "        self.business = Category(\"Business\")\n",
    "        \n",
    "    def test_deposit(self):\n",
    "        self.food.deposit(900, \"deposit\")\n",
    "        actual = self.food.ledger[0]\n",
    "        print(self.food.ledger[0])\n",
    "        expected = {\"amount\": 900, \"description\": \"deposit\"}\n",
    "        self.assertEqual(actual, expected, 'Expected `deposit` method to create a specific object in the ledger instance variable.')"
   ]
  },
  {
   "cell_type": "code",
   "execution_count": null,
   "metadata": {},
   "outputs": [],
   "source": []
  }
 ],
 "metadata": {
  "kernelspec": {
   "display_name": "Python 3",
   "language": "python",
   "name": "python3"
  },
  "language_info": {
   "codemirror_mode": {
    "name": "ipython",
    "version": 3
   },
   "file_extension": ".py",
   "mimetype": "text/x-python",
   "name": "python",
   "nbconvert_exporter": "python",
   "pygments_lexer": "ipython3",
   "version": "3.7.4"
  }
 },
 "nbformat": 4,
 "nbformat_minor": 2
}
