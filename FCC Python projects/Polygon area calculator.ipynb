{
 "cells": [
  {
   "cell_type": "markdown",
   "metadata": {},
   "source": [
    "### Assignment\n",
    "\n",
    "In this project you will use object oriented programming to create a Rectangle class and a Square class. The Square class should be a subclass of Rectangle and inherit methods and attributes.\n",
    "\n",
    "#### Rectangle class\n",
    "When a Rectangle object is created, it should be initialized with `width` and `height` attributes. The class should also contain the following methods:\n",
    "* `set_width`\n",
    "* `set_height`\n",
    "* `get_area`: Returns area (`width * height`)\n",
    "* `get_perimeter`: Returns perimeter (`2 * width + 2 * height`)\n",
    "* `get_diagonal`: Returns diagonal (`(width ** 2 + height ** 2) ** .5`)\n",
    "* `get_picture`: Returns a string that represents the shape using lines of \"\\*\". The number of lines should be equal to the height and the number of \"\\*\" in each line should be equal to the width. There should be a new line (`\\n`) at the end of each line. If the width or height is larger than 50, this should return the string: \"Too big for picture.\".\n",
    "* `get_amount_inside`: Takes another shape (square or rectangle) as an argument. Returns the number of times the passed in shape could fit inside the shape (with no rotations). For instance, a rectangle with a width of 4 and a height of 8 could fit in two squares with sides of 4.\n",
    "\n",
    "Additionally, if an instance of a Rectangle is represented as a string, it should look like: `Rectangle(width=5, height=10)`\n",
    "\n",
    "#### Square class\n",
    "The Square class should be a subclass of Rectangle. When a Square object is created, a single side length is passed in. The `__init__` method should store the side length in both the `width` and `height` attributes from the Rectangle class.\n",
    "\n",
    "The Square class should be able to access the Rectangle class methods but should also contain a `set_side` method. If an instance of a Square is represented as a string, it should look like: `Square(side=9)`\n",
    "\n",
    "Additionally, the `set_width` and `set_height` methods on the Square class should set both the width and height.\n",
    "\n",
    "#### Usage example\n",
    "```py\n",
    "rect = shape_calculator.Rectangle(10, 5)\n",
    "print(rect.get_area())\n",
    "rect.set_height(3)\n",
    "print(rect.get_perimeter())\n",
    "print(rect)\n",
    "print(rect.get_picture())\n",
    "\n",
    "sq = shape_calculator.Square(9)\n",
    "print(sq.get_area())\n",
    "sq.set_side(4)\n",
    "print(sq.get_diagonal())\n",
    "print(sq)\n",
    "print(sq.get_picture())\n",
    "\n",
    "rect.set_height(8)\n",
    "rect.set_width(16)\n",
    "print(rect.get_amount_inside(sq))\n",
    "```\n",
    "That code should return:\n",
    "```\n",
    "50\n",
    "26\n",
    "Rectangle(width=10, height=3)\n",
    "**********\n",
    "**********\n",
    "**********\n",
    "\n",
    "81\n",
    "5.656854249492381\n",
    "Square(side=4)\n",
    "****\n",
    "****\n",
    "****\n",
    "****\n",
    "\n",
    "8\n",
    "```\n",
    "\n",
    "The unit tests for this project are in `test_module.py`.\n",
    "\n",
    "### Development\n",
    "\n",
    "Write your code in `shape_calculator.py`. For development, you can use `main.py` to test your `shape_calculator()` function. Click the \"run\" button and `main.py` will run.\n",
    "\n",
    "### Testing \n",
    "\n",
    "We imported the tests from `test_module.py` to `main.py` for your convenience. The tests will run automatically whenever you hit the \"run\" button.\n",
    "\n",
    "### Submitting\n",
    "\n",
    "Copy your project's URL and submit it to freeCodeCamp.\n"
   ]
  },
  {
   "cell_type": "code",
   "execution_count": null,
   "metadata": {},
   "outputs": [],
   "source": [
    "# sub class reading: https://medium.com/swlh/classes-subclasses-in-python-12b6013d9f3\n"
   ]
  },
  {
   "cell_type": "markdown",
   "metadata": {},
   "source": [
    "#### Rectangle class\n",
    "When a Rectangle object is created, it should be initialized with `width` and `height` attributes. The class should also contain the following methods:\n",
    "* `set_width`\n",
    "* `set_height`\n",
    "* `get_area`: Returns area (`width * height`)\n",
    "* `get_perimeter`: Returns perimeter (`2 * width + 2 * height`)\n",
    "* `get_diagonal`: Returns diagonal (`(width ** 2 + height ** 2) ** .5`)\n",
    "* `get_picture`: Returns a string that represents the shape using lines of \"\\*\". The number of lines should be equal to the height and the number of \"\\*\" in each line should be equal to the width. There should be a new line (`\\n`) at the end of each line. If the width or height is larger than 50, this should return the string: \"Too big for picture.\".\n",
    "* `get_amount_inside`: Takes another shape (square or rectangle) as an argument. Returns the number of times the passed in shape could fit inside the shape (with no rotations). For instance, a rectangle with a width of 4 and a height of 8 could fit in two squares with sides of 4.\n",
    "\n",
    "Additionally, if an instance of a Rectangle is represented as a string, it should look like: `Rectangle(width=5, height=10)`"
   ]
  },
  {
   "cell_type": "code",
   "execution_count": null,
   "metadata": {},
   "outputs": [],
   "source": [
    "#https://forum.freecodecamp.org/t/polygon-area-calculator-python/420537/5"
   ]
  },
  {
   "cell_type": "code",
   "execution_count": 28,
   "metadata": {},
   "outputs": [],
   "source": [
    "class Rectangle:\n",
    "    def __init__(self, width, height):\n",
    "        width = self.width\n",
    "        height = self.height\n",
    "    \n",
    "    def __str__(self):\n",
    "        width = str(self.width)\n",
    "        height = str(self.height)\n",
    "        return \"Rectangle(width=\" + width + \", height=\" + height+ \")\"\n",
    "\n",
    "    def set_width(self, width):\n",
    "        self.width = width\n",
    "        return self.width\n",
    "\n",
    "    def set_height(self, height):\n",
    "        self.height = height\n",
    "        return self.height\n",
    "    \n",
    "    def get_perimeter(self):\n",
    "        perim = (self.width * 2) + (self.height * 2)\n",
    "        return perim\n",
    "    \n",
    "    def get_diagonal(self):\n",
    "        diag = (self.width ** 2) + (self.height ** 2) ** .5\n",
    "        return diag\n",
    "\n",
    "    def get_area (self):\n",
    "        area = self.width * self.height\n",
    "        return area\n",
    "\n",
    "#class Square:\n"
   ]
  },
  {
   "cell_type": "code",
   "execution_count": 30,
   "metadata": {},
   "outputs": [
    {
     "data": {
      "text/plain": [
       "'Rectangle(width=3, height=4)'"
      ]
     },
     "execution_count": 30,
     "metadata": {},
     "output_type": "execute_result"
    }
   ],
   "source": [
    "str(Rectangle(3,4))"
   ]
  },
  {
   "cell_type": "code",
   "execution_count": 31,
   "metadata": {},
   "outputs": [
    {
     "ename": "TypeError",
     "evalue": "get_area() missing 1 required positional argument: 'height'",
     "output_type": "error",
     "traceback": [
      "\u001b[1;31m---------------------------------------------------------------------------\u001b[0m",
      "\u001b[1;31mTypeError\u001b[0m                                 Traceback (most recent call last)",
      "\u001b[1;32m<ipython-input-31-44a6a34b3001>\u001b[0m in \u001b[0;36m<module>\u001b[1;34m\u001b[0m\n\u001b[1;32m----> 1\u001b[1;33m \u001b[0mRectangle\u001b[0m\u001b[1;33m.\u001b[0m\u001b[0mget_area\u001b[0m\u001b[1;33m(\u001b[0m\u001b[1;36m3\u001b[0m\u001b[1;33m,\u001b[0m\u001b[1;36m4\u001b[0m\u001b[1;33m)\u001b[0m\u001b[1;33m\u001b[0m\u001b[1;33m\u001b[0m\u001b[0m\n\u001b[0m",
      "\u001b[1;31mTypeError\u001b[0m: get_area() missing 1 required positional argument: 'height'"
     ]
    }
   ],
   "source": [
    "Rectangle.get_area(3,4)"
   ]
  },
  {
   "cell_type": "code",
   "execution_count": null,
   "metadata": {},
   "outputs": [],
   "source": []
  }
 ],
 "metadata": {
  "kernelspec": {
   "display_name": "Python 3",
   "language": "python",
   "name": "python3"
  },
  "language_info": {
   "codemirror_mode": {
    "name": "ipython",
    "version": 3
   },
   "file_extension": ".py",
   "mimetype": "text/x-python",
   "name": "python",
   "nbconvert_exporter": "python",
   "pygments_lexer": "ipython3",
   "version": "3.7.4"
  }
 },
 "nbformat": 4,
 "nbformat_minor": 2
}
