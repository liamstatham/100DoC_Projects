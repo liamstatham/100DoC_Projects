{
 "cells": [
  {
   "cell_type": "markdown",
   "metadata": {},
   "source": [
    "### Assignment\n",
    "\n",
    "Students in primary school often arrange arithmetic problems vertically to make them easier to solve. For example, \"235 + 52\" becomes:\n",
    "```\n",
    "  235\n",
    "+  52\n",
    "-----\n",
    "```\n",
    "\n",
    "Create a function that receives a list of strings that are arithmetic problems and returns the problems arranged vertically and side-by-side. The function should optionally take a second argument. When the second argument is set to `True`, the answers should be displayed.\n",
    "\n",
    "### For example\n",
    "\n",
    "Function Call:\n",
    "```py\n",
    "arithmetic_arranger([\"32 + 698\", \"3801 - 2\", \"45 + 43\", \"123 + 49\"])\n",
    "```\n",
    "\n",
    "Output:\n",
    "```\n",
    "   32      3801      45      123\n",
    "+ 698    -    2    + 43    +  49\n",
    "-----    ------    ----    -----\n",
    "```\n",
    "\n",
    "Function Call:\n",
    "```py\n",
    "arithmetic_arranger([\"32 + 8\", \"1 - 3801\", \"9999 + 9999\", \"523 - 49\"], True)\n",
    "```\n",
    "\n",
    "Output:\n",
    "```\n",
    "  32         1      9999      523\n",
    "+  8    - 3801    + 9999    -  49\n",
    "----    ------    ------    -----\n",
    "  40     -3800     19998      474\n",
    "```\n",
    "\n",
    "### Rules\n",
    "\n",
    "The function will return the correct conversion if the supplied problems are properly formatted, otherwise, it will **return** a **string** that describes an error that is meaningful to the user.  \n",
    "\n",
    "\n",
    "* Situations that will return an error:\n",
    "  * If there are **too many problems** supplied to the function. The limit is **five**, anything more will return:\n",
    "    `Error: Too many problems.`\n",
    "  * The appropriate operators the function will accept are **addition** and **subtraction**. Multiplication and division will return an error. Other operators not mentioned in this bullet point will not need to be tested. The error returned will be:\n",
    "    `Error: Operator must be '+' or '-'.`\n",
    "  * Each number (operand) should only contain digits. Otherwise, the function will return:\n",
    "    `Error: Numbers must only contain digits.`\n",
    "  * Each operand (aka number on each side of the operator) has a max of four digits in width. Otherwise, the error string returned will be:\n",
    "    `Error: Numbers cannot be more than four digits.`\n",
    "*  If the user supplied the correct format of problems, the conversion you return will follow these rules:\n",
    "    * There should be a single space between the operator and the longest of the two operands, the operator will be on the same line as the second operand, both operands will be in the same order as provided (the first will be the top one and the second will be the bottom.\n",
    "    * Numbers should be right-aligned.\n",
    "    * There should be four spaces between each problem.\n",
    "    * There should be dashes at the bottom of each problem. The dashes should run along the entire length of each problem individually. (The example above shows what this should look like.)\n",
    "\n",
    "### Development\n",
    "\n",
    "Write your code in `arithmetic_arranger.py`. For development, you can use `main.py` to test your `arithmetic_arranger()` function. Click the \"run\" button and `main.py` will run.\n",
    "\n",
    "### Testing \n",
    "\n",
    "The unit tests for this project are in `test_module.py`. We imported the tests from `test_module.py` to `main.py` for your convenience. The tests will run automatically whenever you hit the \"run\" button.\n",
    "\n",
    "### Submitting\n",
    "\n",
    "Copy your project's URL and submit it to freeCodeCamp.\n"
   ]
  },
  {
   "cell_type": "code",
   "execution_count": null,
   "metadata": {},
   "outputs": [],
   "source": [
    "#def arithmetic_arranger(problems):\n",
    "\n",
    "\n",
    "#   return arranged_problems\n",
    "\n",
    "#arithmetic_arranger([\"32 + 698\", \"3801 - 2\", \"45 + 43\", \"123 + 49\"])"
   ]
  },
  {
   "cell_type": "code",
   "execution_count": 2,
   "metadata": {},
   "outputs": [],
   "source": [
    "a = '32'\n",
    "b = '45'"
   ]
  },
  {
   "cell_type": "code",
   "execution_count": 6,
   "metadata": {},
   "outputs": [],
   "source": [
    "an =int(a)\n",
    "bn = int(b)"
   ]
  },
  {
   "cell_type": "code",
   "execution_count": 7,
   "metadata": {},
   "outputs": [
    {
     "data": {
      "text/plain": [
       "('32 + 698', '3801 - 2', '45 + 43', '123 + 49')"
      ]
     },
     "execution_count": 7,
     "metadata": {},
     "output_type": "execute_result"
    }
   ],
   "source": [
    "\"32 + 698\", \"3801 - 2\", \"45 + 43\", \"123 + 49\""
   ]
  },
  {
   "cell_type": "code",
   "execution_count": 48,
   "metadata": {},
   "outputs": [],
   "source": [
    "#problems = ([\"32 + 698\", \"3801 - 2\", \"45 + 43\", \"123 + 49\"])\n",
    "\n",
    "#def checker(inp):\n",
    "#    if inp == int:\n",
    "#        problems = inp\n",
    "#        arithmetic_arranger(problems)\n",
    "#    else:\n",
    "#        print('Error: Numbers must only contain digits.')\n",
    "        \n",
    "        \n",
    "def arithmetic_arranger(problems):\n",
    "    count = 0\n",
    "    \n",
    "    for x in problems:\n",
    "        count = count + 1\n",
    "        sums = x.split()\n",
    "        fig1 = int(sums[0])\n",
    "        fig2 = int(sums[2])\n",
    "        op = sums[1]\n",
    "        lname = 'list' + str(count)\n",
    "        #row formatting?\n",
    "        row2 = str(op + ' ' + str(fig2))\n",
    "        col_width = len(row2) + 2 #pads columns\n",
    "        fit = col_width - 2\n",
    "        list = []\n",
    "        fig1s = str(fig1).rjust(col_width - 2, \" \")\n",
    "        dash = '-'*fit\n",
    "        list = [fig1s, row2, dash]\n",
    "        lst = '\\n'.join(list)\n",
    "        print(lst)\n",
    "        print(lname)\n",
    "        print()\n",
    "   #return arranged_problems"
   ]
  },
  {
   "cell_type": "code",
   "execution_count": 49,
   "metadata": {},
   "outputs": [
    {
     "name": "stdout",
     "output_type": "stream",
     "text": [
      "   32\n",
      "+ 698\n",
      "-----\n",
      "list1\n",
      "\n",
      "3801\n",
      "- 2\n",
      "---\n",
      "list2\n",
      "\n",
      "  45\n",
      "+ 43\n",
      "----\n",
      "list3\n",
      "\n",
      " 123\n",
      "+ 49\n",
      "----\n",
      "list4\n",
      "\n"
     ]
    }
   ],
   "source": [
    "#problems = ([\"32 + 698\", \"3801 - 2\", \"45 + 43\", \"123 + 49\"])\n",
    "arithmetic_arranger([\"32 + 698\", \"3801 - 2\", \"45 + 43\", \"123 + 49\"])"
   ]
  },
  {
   "cell_type": "code",
   "execution_count": 11,
   "metadata": {},
   "outputs": [],
   "source": [
    "def arithmetic_arranger(problems, answers=False):\n",
    "    #create rows with nothing in\n",
    "    row1 = row2 = row3 = row4 = \"\"\n",
    "    spaces = \"   \"\n",
    "    probs = []\n",
    "    answs = []\n",
    "    \n",
    "    #check if there are too many problems (no more than 5)\n",
    "    try:\n",
    "        if len(problems) > 5:\n",
    "            raise BaseException\n",
    "    except:\n",
    "        return \"Error: Too many problems.\"\n",
    "    \n",
    "    for x in problems:\n",
    "        #split the sum into pieces\n",
    "        split_problem = x.split()\n",
    "        #set variable for the sum pieces\n",
    "        fig1 = split_problem[0]\n",
    "        oper = split_problem[1]\n",
    "        fig2 = split_problem[2]\n",
    "        \n",
    "        #check if operands are more than 4 digits\n",
    "        if (len(fig1) > 4 or len(fig2) > 4):\n",
    "            return 'Error: Numbers cannot be more than four digits.'\n",
    "        \n",
    "        #check if operands are numeric\n",
    "        if not fig1.isnumeric() or not fig2.isnumeric():\n",
    "            return 'Error: Numbers must only contain digits.'\n",
    "        \n",
    "        #set numbers to int\n",
    "        num1 = int(fig1)\n",
    "        num2 = int(fig2)\n",
    "        \n",
    "        #check if operator is - or +\n",
    "        \n",
    "        sub = '-'\n",
    "        add = '+'\n",
    "        if (oper == '-' or oper == '+'):\n",
    "            #do the arithmetic if so\n",
    "            if oper == '+':\n",
    "                result = num1 + num2\n",
    "                result = str(result)\n",
    "            else:\n",
    "                result = num1 - num2\n",
    "                result = str(result)\n",
    "        else:\n",
    "            return 'Error: Operator must be '+' or '-'.'\n",
    "         \n",
    "        run = 6\n",
    "        #column width for formatting\n",
    "        col_width = max(len(fig1), len(fig2)) + len(oper) + 1 #adds 1 for space between operator and figure\n",
    "        ndrow = str(oper + \" \" + fig2)\n",
    "        dash = '-'*col_width\n",
    "        end = '\\n'\n",
    "         \n",
    "        if run < len(problems):\n",
    "            row1 += fig1.rjust(col_width) + spaces \n",
    "            row2 += str(oper) + fig2.rjust(col_width - 1) + spaces \n",
    "            row3 += dash + spaces\n",
    "            row4 += result.rjust(col_width) + spaces\n",
    "            answs = row1 , row2 , row3 , row4\n",
    "            run = run + 1\n",
    "            end = '\\n'\n",
    "            #arranged_problems = answs\n",
    "        else:\n",
    "            row1 += fig1.rjust(col_width)\n",
    "            row2 += str(oper) + fig2.rjust(col_width - 1)\n",
    "            row3 += dash\n",
    "            row4 += result.rjust(col_width)\n",
    "            answsend = print(row1 + end + row2 + end+ row3 + end+ row4)\n",
    "            run = run+1\n",
    "        \n",
    "        if answers :\n",
    "            try:\n",
    "                arranged_problems = answsend\n",
    "            except:\n",
    "                arranged_problems = answs\n",
    "        else:\n",
    "            row1 += fig1.rjust(col_width) + spaces\n",
    "            row2 += str(oper) + fig2.rjust(col_width - 1) + spaces\n",
    "            row3 += dash + spaces\n",
    "            probs = row1, row2, row3\n",
    "            arranged_problems = print(probs)\n",
    "            \n",
    "    return arranged_problems\n",
    "        \n",
    "        \n",
    "    "
   ]
  },
  {
   "cell_type": "code",
   "execution_count": 10,
   "metadata": {},
   "outputs": [
    {
     "name": "stdout",
     "output_type": "stream",
     "text": [
      "    32\n",
      "+ 6983\n",
      "------\n",
      "  7015\n",
      "    32  3801\n",
      "+ 6983-    2\n",
      "------------\n",
      "  7015  3799\n",
      "    32  3801  45\n",
      "+ 6983-    2+ 43\n",
      "----------------\n",
      "  7015  3799  88\n",
      "    32  3801  45  123\n",
      "+ 6983-    2+ 43+  49\n",
      "---------------------\n",
      "  7015  3799  88  172\n",
      "    32  3801  45  123  123\n",
      "+ 6983-    2+ 43+  49+  49\n",
      "--------------------------\n",
      "  7015  3799  88  172  172\n"
     ]
    }
   ],
   "source": [
    "arithmetic_arranger([\"32 + 6983\", \"3801 - 2\", \"45 + 43\", \"123 + 49\", \"123 + 49\"], True)"
   ]
  },
  {
   "cell_type": "code",
   "execution_count": 12,
   "metadata": {
    "scrolled": true
   },
   "outputs": [
    {
     "name": "stdout",
     "output_type": "stream",
     "text": [
      "    32\n",
      "+ 6983\n",
      "------\n",
      "  7015\n",
      "('    32    32   ', '+ 6983+ 6983   ', '------------   ')\n",
      "    32    32     3801\n",
      "+ 6983+ 6983   -    2\n",
      "------------   ------\n",
      "  7015  3799\n",
      "('    32    32     3801  3801   ', '+ 6983+ 6983   -    2-    2   ', '------------   ------------   ')\n",
      "    32    32     3801  3801     45\n",
      "+ 6983+ 6983   -    2-    2   + 43\n",
      "------------   ------------   ----\n",
      "  7015  3799  88\n",
      "('    32    32     3801  3801     45  45   ', '+ 6983+ 6983   -    2-    2   + 43+ 43   ', '------------   ------------   --------   ')\n",
      "    32    32     3801  3801     45  45     123\n",
      "+ 6983+ 6983   -    2-    2   + 43+ 43   +  49\n",
      "------------   ------------   --------   -----\n",
      "  7015  3799  88  172\n",
      "('    32    32     3801  3801     45  45     123  123   ', '+ 6983+ 6983   -    2-    2   + 43+ 43   +  49+  49   ', '------------   ------------   --------   ----------   ')\n",
      "    32    32     3801  3801     45  45     123  123     123\n",
      "+ 6983+ 6983   -    2-    2   + 43+ 43   +  49+  49   +  49\n",
      "------------   ------------   --------   ----------   -----\n",
      "  7015  3799  88  172  172\n",
      "('    32    32     3801  3801     45  45     123  123     123  123   ', '+ 6983+ 6983   -    2-    2   + 43+ 43   +  49+  49   +  49+  49   ', '------------   ------------   --------   ----------   ----------   ')\n"
     ]
    }
   ],
   "source": [
    "arithmetic_arranger([\"32 + 6983\", \"3801 - 2\", \"45 + 43\", \"123 + 49\", \"123 + 49\"])"
   ]
  },
  {
   "cell_type": "code",
   "execution_count": 141,
   "metadata": {},
   "outputs": [],
   "source": [
    "def arithmetic_arranger(problems, answers=False):\n",
    "    #create rows with nothing in\n",
    "    row1 = row2 = row3 = row4 = \"\"\n",
    "    spaces = \"    \"\n",
    "    probs = []\n",
    "    answs = []\n",
    "    count = 0\n",
    "    \n",
    "    #check if there are too many problems (no more than 5)\n",
    "    try:\n",
    "        if len(problems) > 5:\n",
    "            raise BaseException\n",
    "    except:\n",
    "        return \"Error: Too many problems.\"\n",
    "    \n",
    "    for x in problems:\n",
    "        #split the sum into pieces\n",
    "        split_problem = x.split()\n",
    "        #set variable for the sum pieces\n",
    "        fig1 = split_problem[0]\n",
    "        oper = split_problem[1]\n",
    "        fig2 = split_problem[2]\n",
    "        \n",
    "        #check if operands are more than 4 digits\n",
    "        if (len(fig1) > 4 or len(fig2) > 4):\n",
    "            return 'Error: Numbers cannot be more than four digits.'\n",
    "        \n",
    "        #check if operands are numeric\n",
    "        if not fig1.isnumeric() or not fig2.isnumeric():\n",
    "            return 'Error: Numbers must only contain digits.'\n",
    "        \n",
    "        #set numbers to int\n",
    "        num1 = int(fig1)\n",
    "        num2 = int(fig2)\n",
    "        \n",
    "        #check if operator is - or +\n",
    "        \n",
    "        sub = '-'\n",
    "        add = '+'\n",
    "        if (oper == '-' or oper == '+'):\n",
    "            #do the arithmetic if so\n",
    "            if oper == '+':\n",
    "                result = num1 + num2\n",
    "                result = str(result)\n",
    "            else:\n",
    "                result = num1 - num2\n",
    "                result = str(result)\n",
    "        else:\n",
    "            return \"Error: Operator must be '+' or '-'.\"\n",
    "         \n",
    "        \n",
    "        #column width for formatting\n",
    "        col_width = max(len(fig1), len(fig2)) + len(oper) + 1 #adds 1 for space between operator and figure\n",
    "        dash = '-'*col_width\n",
    "        end = '\\n'\n",
    "        count = count + 1\n",
    "        \n",
    "               \n",
    "        if answers :\n",
    "            if count == len(problems):            \n",
    "                row1 += fig1.rjust(col_width) \n",
    "                row2 += str(oper) + fig2.rjust(col_width - 1) \n",
    "                row3 += dash \n",
    "                row4 += result.rjust(col_width) \n",
    "                answs = print(row1 + end + row2 + end + row3 + end +row4)                \n",
    "            else:\n",
    "                row1 += fig1.rjust(col_width) + spaces\n",
    "                row2 += str(oper) + fig2.rjust(col_width - 1) + spaces\n",
    "                row3 += dash + spaces\n",
    "                row4 += result.rjust(col_width) + spaces\n",
    "                count = count\n",
    "            arranged_problems = answs\n",
    "        else:\n",
    "            if count == len(problems):\n",
    "                row1 += fig1.rjust(col_width)\n",
    "                row2 += str(oper) + fig2.rjust(col_width - 1)\n",
    "                row3 += dash\n",
    "                probs = print(row1 + end + row2 + end + row3)\n",
    "            else:\n",
    "                row1 += fig1.rjust(col_width) + spaces\n",
    "                row2 += str(oper) + fig2.rjust(col_width - 1) + spaces\n",
    "                row3 += dash + spaces\n",
    "                count = count\n",
    "            arranged_problems = probs\n",
    "    return arranged_problems\n",
    "      \n",
    "        \n",
    "    "
   ]
  },
  {
   "cell_type": "code",
   "execution_count": 142,
   "metadata": {
    "scrolled": true
   },
   "outputs": [
    {
     "name": "stdout",
     "output_type": "stream",
     "text": [
      "    3      3801      45      123\n",
      "+ 855    -    2    + 43    +  49\n",
      "-----    ------    ----    -----\n"
     ]
    }
   ],
   "source": [
    " arithmetic_arranger([\"3 + 855\", \"3801 - 2\", \"45 + 43\", \"123 + 49\"])"
   ]
  },
  {
   "cell_type": "code",
   "execution_count": 140,
   "metadata": {},
   "outputs": [
    {
     "name": "stdout",
     "output_type": "stream",
     "text": [
      "    3      3801      45      123\n",
      "+ 855    -    2    + 43    +  49\n",
      "-----    ------    ----    -----\n"
     ]
    }
   ],
   "source": [
    "expected = \"    3      3801      45      123\\n+ 855    -    2    + 43    +  49\\n-----    ------    ----    -----\"\n",
    "print(expected)"
   ]
  },
  {
   "cell_type": "code",
   "execution_count": 98,
   "metadata": {},
   "outputs": [
    {
     "name": "stdout",
     "output_type": "stream",
     "text": [
      "  11      3801      1      123         1    \n",
      "+  4    - 2999    + 2    +  49    - 9380    \n",
      "----    ------    ---    -----    ------    \n",
      "\n"
     ]
    }
   ],
   "source": [
    "arithmetic_arranger([\"11 + 4\", \"3801 - 2999\", \"1 + 2\", \"123 + 49\", \"1 - 9380\"])"
   ]
  },
  {
   "cell_type": "code",
   "execution_count": 106,
   "metadata": {},
   "outputs": [
    {
     "data": {
      "text/plain": [
       "\"Error: Operator must be '+' or '-'.\""
      ]
     },
     "execution_count": 106,
     "metadata": {},
     "output_type": "execute_result"
    }
   ],
   "source": [
    "arithmetic_arranger([\"3 / 855\", \"3801 - 2\", \"45 + 43\", \"123 + 49\"])"
   ]
  },
  {
   "cell_type": "code",
   "execution_count": 143,
   "metadata": {},
   "outputs": [
    {
     "name": "stdout",
     "output_type": "stream",
     "text": [
      "   32         1      45      123\n",
      "- 698    - 3801    + 43    +  49\n",
      "-----    ------    ----    -----\n",
      " -666     -3800      88      172\n"
     ]
    }
   ],
   "source": [
    "arithmetic_arranger([\"32 - 698\", \"1 - 3801\", \"45 + 43\", \"123 + 49\"], True)"
   ]
  },
  {
   "cell_type": "code",
   "execution_count": 134,
   "metadata": {},
   "outputs": [
    {
     "name": "stdout",
     "output_type": "stream",
     "text": [
      "   32         1      45      123\n",
      "- 698    - 3801    + 43    +  49\n",
      "-----    ------    ----    -----\n",
      " -666     -3800      88      172\n"
     ]
    }
   ],
   "source": [
    "expected = \"   32         1      45      123\\n- 698    - 3801    + 43    +  49\\n-----    ------    ----    -----\\n -666     -3800      88      172\"\n",
    "print(expected)"
   ]
  },
  {
   "cell_type": "code",
   "execution_count": null,
   "metadata": {},
   "outputs": [],
   "source": [
    "arithmetic_arranger([\"3 + 855\", \"3801 - 2\", \"45 + 43\", \"123 + 49\"])"
   ]
  }
 ],
 "metadata": {
  "kernelspec": {
   "display_name": "Python 3",
   "language": "python",
   "name": "python3"
  },
  "language_info": {
   "codemirror_mode": {
    "name": "ipython",
    "version": 3
   },
   "file_extension": ".py",
   "mimetype": "text/x-python",
   "name": "python",
   "nbconvert_exporter": "python",
   "pygments_lexer": "ipython3",
   "version": "3.7.4"
  }
 },
 "nbformat": 4,
 "nbformat_minor": 2
}
