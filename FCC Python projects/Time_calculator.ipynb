{
 "cells": [
  {
   "cell_type": "markdown",
   "metadata": {},
   "source": [
    "### Assignment.\n",
    "\n",
    "Write a function named add_time that takes in two required parameters and one optional parameter:\n",
    "\n",
    "a start time in the 12-hour clock format (ending in AM or PM)\n",
    "a duration time that indicates the number of hours and minutes\n",
    "(optional) a starting day of the week, case insensitive\n",
    "The function should add the duration time to the start time and return the result.\n",
    "\n",
    "If the result will be the next day, it should show (next day) after the time. If the result will be more than one day later, it should show (n days later) after the time, where \"n\" is the number of days later.\n",
    "\n",
    "If the function is given the optional starting day of the week parameter, then the output should display the day of the week of the result. The day of the week in the output should appear after the time and before the number of days later.\n",
    "\n",
    "Below are some examples of different cases the function should handle. Pay close attention to the spacing and punctuation of the results.\n",
    "\n",
    "```\n",
    "add_time(\"3:00 PM\", \"3:10\")\n",
    "# Returns: 6:10 PM\n",
    "\n",
    "add_time(\"11:30 AM\", \"2:32\", \"Monday\")\n",
    "# Returns: 2:02 PM, Monday\n",
    "\n",
    "add_time(\"11:43 AM\", \"00:20\")\n",
    "# Returns: 12:03 PM\n",
    "\n",
    "add_time(\"10:10 PM\", \"3:30\")\n",
    "# Returns: 1:40 AM (next day)\n",
    "\n",
    "add_time(\"11:43 PM\", \"24:20\", \"tueSday\")\n",
    "# Returns: 12:03 AM, Thursday (2 days later)\n",
    "\n",
    "add_time(\"6:30 PM\", \"205:12\")\n",
    "# Returns: 7:42 AM (9 days later)\n",
    "```\n",
    "\n",
    "\n",
    "Do not import any Python libraries. Assume that the start times are valid times. The minutes in the duration time will be a whole number less than 60, but the hour can be any whole number.\n",
    "\n",
    "Development\n",
    "Write your code in time_calculator.py. For development, you can use main.py to test your time_calculator() function. Click the \"run\" button and main.py will run.\n",
    "\n",
    "Testing\n",
    "The unit tests for this project are in test_module.py. We imported the tests from test_module.py to main.py for your convenience. The tests will run automatically whenever you hit the \"run\" button.\n",
    "\n",
    "Submitting\n",
    "Copy your project's URL and submit it to freeCodeCamp."
   ]
  },
  {
   "cell_type": "code",
   "execution_count": 8,
   "metadata": {},
   "outputs": [],
   "source": [
    "def add_time(start, duration):\n",
    "       \n",
    "    time = []\n",
    "    time2 = []\n",
    "    days_lst = []\n",
    "    ampm = start.split()\n",
    "    time = ampm[0].split(':')\n",
    "    timeh = time[0]\n",
    "    timem = time[1]\n",
    "    timep = ampm[1]\n",
    "    current = timeh + ':' + timem + ' ' + timep\n",
    "    \n",
    "    print(current)\n",
    "    \n",
    "    dur = duration.split(':')\n",
    "    durh = dur[0]\n",
    "    durm = dur[1]\n",
    "    day = int(durh) / 24.0\n",
    "    y = 0\n",
    "    for x in str(day):\n",
    "        #print(x)\n",
    "        y = y + 1\n",
    "        if y == 1:\n",
    "            d2add = x\n",
    "            break\n",
    "        \n",
    "    \n",
    "    #days1 = day_lst[0].split()\n",
    "    #print(durh, durm)\n",
    "    #print(figs)\n",
    "   # print(d2add)\n",
    "    \n",
    "    new_time = durh, durm\n",
    "    \n",
    "    return new_time"
   ]
  },
  {
   "cell_type": "code",
   "execution_count": 7,
   "metadata": {},
   "outputs": [
    {
     "name": "stdout",
     "output_type": "stream",
     "text": [
      "6:30 PM\n"
     ]
    },
    {
     "data": {
      "text/plain": [
       "('205', '12')"
      ]
     },
     "execution_count": 7,
     "metadata": {},
     "output_type": "execute_result"
    }
   ],
   "source": [
    "add_time(\"6:30 PM\", \"205:12\")"
   ]
  },
  {
   "cell_type": "code",
   "execution_count": 89,
   "metadata": {},
   "outputs": [],
   "source": [
    "def add_time(start, duration, wkday=None):\n",
    "    #days\n",
    "    days = {0: 'Monday', 1: 'Tuesday', 2: 'Wednesday', 3: 'Thursday', 4: 'Friday', 5: 'Saturday', 6: 'Sunday'}\n",
    "    import datetime\n",
    "    #converts start time to time\n",
    "    time_start = datetime.datetime.strptime(start, \"%I:%M %p\")\n",
    "    #the day of week function\n",
    "    if wkday != None:\n",
    "        wkday = wkday.title()\n",
    "        while days[time_start.weekday()] != wkday:\n",
    "            time_start += datetime.timedelta(days=1)\n",
    "        \n",
    "\n",
    "    #splits duration\n",
    "    dur1 = duration.split(':')\n",
    "    dur1 = list(map(int, dur1))\n",
    "    #convert duration split into days, hours and minutes\n",
    "    dur2 = datetime.timedelta(hours=dur1[0], minutes=dur1[1])\n",
    "    #add duration time and days to the start time\n",
    "    dur3 = time_start + dur2\n",
    "    #leave just the time (%I:%M %p = hour, min and am/pm)\n",
    "    fin_time = dur3.strftime(\"%I:%M %p\")\n",
    "    next_day = ''\n",
    "    \n",
    "    #Remove leading 0 from 12 hour time eg 06:36 becomes 6:36\n",
    "    if (fin_time[0] == \"0\"):\n",
    "        fin_time = fin_time[1:]\n",
    "        \n",
    "    # add the next day or days later section, if the day is plus 1 = next day, if more than 1 it adds ( days later) and days from date \n",
    "    if (dur3.day-time_start.day == 1):\n",
    "        next_day = ' (next day)'\n",
    "    elif (dur3.day-time_start.day > 1):\n",
    "        next_day = ' (' + str(dur3.day-time_start.day) + ' days later)'\n",
    "    \n",
    "    #add day name to results if function requires strftime('%A') pulls the day name from the date\n",
    "    dayname = ''\n",
    "    if wkday != None:\n",
    "        dayname = ', ' + dur3.strftime('%A')\n",
    "    \n",
    "    new_time = fin_time + dayname + next_day\n",
    "    return new_time"
   ]
  },
  {
   "cell_type": "code",
   "execution_count": 90,
   "metadata": {},
   "outputs": [
    {
     "data": {
      "text/plain": [
       "'7:42 AM (9 days later)'"
      ]
     },
     "execution_count": 90,
     "metadata": {},
     "output_type": "execute_result"
    }
   ],
   "source": [
    "add_time(\"6:30 PM\", \"205:12\")"
   ]
  },
  {
   "cell_type": "code",
   "execution_count": 85,
   "metadata": {},
   "outputs": [
    {
     "data": {
      "text/plain": [
       "'06:18 AM (20 days later)'"
      ]
     },
     "execution_count": 85,
     "metadata": {},
     "output_type": "execute_result"
    }
   ],
   "source": [
    "add_time(\"8:16 PM\", \"466:02\")"
   ]
  },
  {
   "cell_type": "code",
   "execution_count": 88,
   "metadata": {},
   "outputs": [
    {
     "data": {
      "text/plain": [
       "'6:18 AM (20 days later)'"
      ]
     },
     "execution_count": 88,
     "metadata": {},
     "output_type": "execute_result"
    }
   ],
   "source": [
    "add_time(\"8:16 PM\", \"466:02\")"
   ]
  }
 ],
 "metadata": {
  "kernelspec": {
   "display_name": "Python 3",
   "language": "python",
   "name": "python3"
  },
  "language_info": {
   "codemirror_mode": {
    "name": "ipython",
    "version": 3
   },
   "file_extension": ".py",
   "mimetype": "text/x-python",
   "name": "python",
   "nbconvert_exporter": "python",
   "pygments_lexer": "ipython3",
   "version": "3.7.4"
  }
 },
 "nbformat": 4,
 "nbformat_minor": 2
}
